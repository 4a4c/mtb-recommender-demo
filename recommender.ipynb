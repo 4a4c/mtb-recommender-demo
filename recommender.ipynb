{
 "cells": [
  {
   "cell_type": "code",
   "execution_count": null,
   "id": "ec30eb23",
   "metadata": {},
   "outputs": [],
   "source": [
    "import pandas as pd\n",
    "import numpy as np\n",
    "from surprise import Dataset, Reader, SVD\n",
    "from surprise.model_selection import train_test_split\n",
    "from surprise import accuracy\n",
    "from sklearn.metrics import ndcg_score\n",
    "import warnings; warnings.filterwarnings('ignore')\n",
    "\n",
    "print(\"All libraries imported – ready to go!\")"
   ]
  },
  {
   "cell_type": "code",
   "execution_count": null,
   "id": "3f7de53b",
   "metadata": {},
   "outputs": [],
   "source": [
    "# Brands + popularity weights from the 2024 Pinkbike Community Survey\n",
    "brands = ['Specialized', 'Santa Cruz', 'Transition', 'Trek', 'Giant',\n",
    "          'Pivot', 'Rocky Mountain', 'Forbidden', 'Commencal', 'Canyon']\n",
    "popularity_weights = [0.20, 0.18, 0.16, 0.15, 0.05, 0.08, 0.07, 0.04, 0.04, 0.03]\n",
    "\n",
    "# 500 fake users, each rating 3-5 brands\n",
    "np.random.seed(42)                     # reproducible\n",
    "num_users = 500\n",
    "data = []\n",
    "\n",
    "for user_id in range(1, num_users + 1):\n",
    "    n = np.random.randint(3, 6)\n",
    "    rated = np.random.choice(brands, n, replace=False)\n",
    "    for brand in rated:\n",
    "        w = popularity_weights[brands.index(brand)]\n",
    "        rating = np.clip(np.random.normal(3 + 2*w, 0.5), 1, 5)\n",
    "        data.append({'user_id': user_id, 'brand': brand,\n",
    "                     'rating': round(rating)})\n",
    "\n",
    "df = pd.DataFrame(data)\n",
    "print(f\"Generated {len(df)} ratings from {num_users} users\")\n",
    "df.head()"
   ]
  },
  {
   "cell_type": "code",
   "execution_count": null,
   "id": "f2c1746e",
   "metadata": {},
   "outputs": [],
   "source": [
    "# Load into Surprise\n",
    "reader = Reader(rating_scale=(1, 5))\n",
    "data = Dataset.load_from_df(df[['user_id', 'brand', 'rating']], reader)\n",
    "trainset, testset = train_test_split(data, test_size=0.2)\n",
    "\n",
    "# Train matrix-factorization model\n",
    "model = SVD()\n",
    "model.fit(trainset)\n",
    "\n",
    "# ---- Demo recommendation for user 1 ----\n",
    "user_id = 1\n",
    "all_brands = df['brand'].unique()\n",
    "already_rated = df[df['user_id'] == user_id]['brand'].tolist()\n",
    "\n",
    "preds = [model.predict(user_id, b) for b in all_brands\n",
    "         if b not in already_rated]\n",
    "top3 = sorted(preds, key=lambda x: x.est, reverse=True)[:3]\n",
    "\n",
    "print(f\"\\nTop-3 recommendations for User {user_id}:\")\n",
    "for i, p in enumerate(top3, 1):\n",
    "    print(f\"  {i}. {p.iid}  →  {p.est:.2f}\")"
   ]
  },
  {
   "cell_type": "code",
   "execution_count": null,
   "id": "dfb7d3bf",
   "metadata": {},
   "outputs": [],
   "source": [
    "# Predictions on the hold-out test set\n",
    "predictions = model.test(testset)\n",
    "rmse = accuracy.rmse(predictions, verbose=False)\n",
    "\n",
    "# nDCG per user (skip users with only one test item)\n",
    "ndcgs = []\n",
    "for uid in {p.uid for p in predictions}:\n",
    "    ups = [p for p in predictions if p.uid == uid]\n",
    "    if len(ups) > 1:\n",
    "        true = [p.r_ui for p in ups]\n",
    "        est  = [p.est  for p in ups]\n",
    "        ndcgs.append(ndcg_score([true], [est]))\n",
    "\n",
    "mean_ndcg = np.mean(ndcgs) if ndcgs else 0.0\n",
    "\n",
    "print(\"\\nEvaluation on 20% hold-out:\")\n",
    "print(f\"  RMSE      : {rmse:.3f}\")\n",
    "print(f\"  Mean nDCG : {mean_ndcg:.3f}\")"
   ]
  }
 ],
 "metadata": {
  "kernelspec": {
   "display_name": "Python 3",
   "language": "python",
   "name": "python3"
  },
  "language_info": {
   "name": "python",
   "version": "3.9.6"
  }
 },
 "nbformat": 4,
 "nbformat_minor": 5
}
